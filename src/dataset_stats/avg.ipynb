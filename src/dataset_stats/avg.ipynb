{
 "cells": [
  {
   "cell_type": "markdown",
   "metadata": {},
   "source": [
    "# C Code properties"
   ]
  },
  {
   "cell_type": "code",
   "execution_count": null,
   "metadata": {},
   "outputs": [],
   "source": [
    "import json\n",
    "from pathlib import Path \n",
    "\n",
    "c_input = Path('./c_project_stats.json')\n",
    "with open(c_input, 'r', encoding = 'utf-8') as c_input:\n",
    "    data = json.load(c_input)"
   ]
  },
  {
   "cell_type": "code",
   "execution_count": null,
   "metadata": {},
   "outputs": [],
   "source": [
    "total_c_files = []\n",
    "total_h_files = []\n",
    "total_loc = []\n",
    "total_functions = []\n",
    "total_ptr = []\n",
    "total_testcases = []\n",
    "total_test_files = []\n",
    "total_code_coverage = []\n",
    "proj_and_coverage = {}\n",
    "for key in data:\n",
    "    # if key!='libfor':\n",
    "    j = data[key]\n",
    "    total_c_files.append(j['c_files'])\n",
    "    total_h_files.append(j['h_files'])\n",
    "    total_loc.append(j['lines_of_code'])\n",
    "    total_functions.append(j['functions'])\n",
    "    total_ptr.append(j['pointer_references'])\n",
    "    total_testcases.append(j['test_cases'])\n",
    "    total_test_files.append(j['test_files'])\n",
    "    if 'code_coverage' in j:\n",
    "        total_code_coverage.append(j['code_coverage'])\n",
    "        proj_and_coverage[key] = j['code_coverage']\n",
    "\n"
   ]
  },
  {
   "cell_type": "code",
   "execution_count": null,
   "metadata": {},
   "outputs": [],
   "source": [
    "# compute the average\n",
    "avg_c_files = sum(total_c_files) / len(total_c_files)\n",
    "avg_h_files = sum(total_h_files) / len(total_h_files)\n",
    "avg_loc = sum(total_loc) / len(total_loc)\n",
    "max_loc = max(total_loc)\n",
    "min_loc = min(total_loc)\n",
    "avg_functions = sum(total_functions) / len(total_functions)\n",
    "sorted_functions = sorted(total_functions)\n",
    "median_functions = sorted_functions[len(sorted_functions)//2]\n",
    "max_functions = max(total_functions)\n",
    "min_functions = min(total_functions)\n",
    "avg_ptr = sum(total_ptr) / len(total_ptr)\n",
    "max_ptr = max(total_ptr)\n",
    "min_ptr = min(total_ptr)\n",
    "sorted_ptr = sorted(total_ptr)\n",
    "median_ptr = sorted_ptr[len(sorted_ptr)//2]\n",
    "\n",
    "avg_testcases = sum(total_testcases) / len(total_testcases)\n",
    "max_testcases = max(total_testcases)\n",
    "min_testcases = min(total_testcases)\n",
    "sorted_testcases = sorted(total_testcases)\n",
    "median_testcases = sorted_testcases[len(sorted_testcases)//2]\n",
    "avg_test_files = sum(total_test_files) / len(total_test_files)\n",
    "max_test_files = max(total_test_files)\n",
    "min_test_files = min(total_test_files)\n",
    "sorted_test_files = sorted(total_test_files)\n",
    "median_test_files = sorted_test_files[len(sorted_test_files)//2]\n",
    "avg_code_coverage = sum(total_code_coverage) / len(total_code_coverage)\n",
    "max_code_coverage = max(total_code_coverage)\n",
    "min_code_coverage = min(total_code_coverage)\n",
    "sorted_code_coverage = sorted(total_code_coverage)\n",
    "median_code_coverage = sorted_code_coverage[len(sorted_code_coverage)//2]"
   ]
  },
  {
   "cell_type": "code",
   "execution_count": null,
   "metadata": {},
   "outputs": [],
   "source": [
    "print(f'Average number of C files: {avg_c_files}')\n",
    "print(f'Average number of H files: {avg_h_files}')\n",
    "print(f'Average number of lines of code: {avg_loc}')\n",
    "print(f'Maximum number of lines of code: {max_loc}')\n",
    "print(f'Minimum number of lines of code: {min_loc}')\n",
    "print(f'Average number of functions: {avg_functions}')\n",
    "print(f'Maximum number of functions: {max_functions}')\n",
    "print(f'Minimum number of functions: {min_functions}')\n",
    "print(f'Median number of functions: {median_functions}')\n",
    "print(f'Average number of pointer references: {avg_ptr}')\n",
    "print(f'Maximum number of pointer references: {max_ptr}')\n",
    "print(f'Minimum number of pointer references: {min_ptr}')\n",
    "print(f'Median number of pointer references: {median_ptr}')\n",
    "print(f'Average number of test cases: {avg_testcases}')\n",
    "print(f'Maximum number of test cases: {max_testcases}')\n",
    "print(f'Minimum number of test cases: {min_testcases}')\n",
    "print(f'Median number of test cases: {median_testcases}')\n",
    "print(f'Average number of test files: {avg_test_files}')\n",
    "print(f'Maximum number of test files: {max_test_files}')\n",
    "print(f'Minimum number of test files: {min_test_files}')\n",
    "print(f'Median number of test files: {median_test_files}')\n",
    "print(f'Average code coverage: {avg_code_coverage}')\n",
    "print(f\"Len of code coverage: {len(total_code_coverage)}\")\n",
    "# find lowest code the 5 lowest coverage\n",
    "lowest_code_coverage = sorted(proj_and_coverage.items(), key=lambda x: x[1])[:5]\n",
    "print(f'Lowest code coverage: {lowest_code_coverage}')\n",
    "print(f'Median code coverage: {median_code_coverage}')"
   ]
  },
  {
   "cell_type": "markdown",
   "metadata": {},
   "source": [
    "Rust Files"
   ]
  },
  {
   "cell_type": "markdown",
   "metadata": {},
   "source": []
  },
  {
   "cell_type": "code",
   "execution_count": null,
   "metadata": {},
   "outputs": [],
   "source": [
    "from pathlib import Path \n",
    "import json\n",
    "rust_input = Path('./rust_analysis_report.json')\n",
    "with open(rust_input, 'r', encoding = 'utf-8') as rust_input:\n",
    "    data = json.load(rust_input)"
   ]
  },
  {
   "cell_type": "code",
   "execution_count": null,
   "metadata": {},
   "outputs": [],
   "source": [
    "total_files = 0\n",
    "min_files = 100000\n",
    "max_files = 0\n",
    "total_functions = 0\n",
    "min_func = 100000\n",
    "max_func = 0\n",
    "borrowed_args = 0\n",
    "custom_datatypes= 0\n",
    "traits_count = 0\n",
    "custom_datatypes_in_args = 0\n",
    "custom_return_types = 0\n",
    "percentage_functions_with_borrowed_args = 0\n",
    "percentage_functions_with_custom_types = 0\n",
    "percentage_functions_with_mutable = 0\n",
    "percentage_functions_with_lifetime = 0\n",
    "percentage_functions_with_pointer = 0\n",
    "total_args = 0\n",
    "avg_args= []\n",
    "percentage_functions_with_custom_return_type = 0\n",
    "for key in data['project_stats']:\n",
    "    j = data['project_stats'][key]\n",
    "    total_files += j['total_files'] - 1\n",
    "    total_args += j['total_args']\n",
    "    avg_args.append(j['total_args'])\n",
    "    if j['total_files'] < min_files:\n",
    "        min_files = j['total_files']\n",
    "    if j['total_files'] > max_files:\n",
    "        max_files = j['total_files']\n",
    "        print(key)\n",
    "    total_functions += j['total_functions']\n",
    "    if j['total_functions'] < min_func:\n",
    "        min_func = j['total_functions']\n",
    "    if j['total_functions'] > max_func:\n",
    "        max_func = j['total_functions']\n",
    "    borrowed_args += j['borrowed_arguments']\n",
    "    custom_datatypes += j['custom_types']['structs_count'] + j['custom_types']['enums_count'] \n",
    "    traits_count += j['traits_implemented']['Clone']+ j['traits_implemented']['Copy']+ j['traits_implemented']['Debug']+ j['traits_implemented']['PartialEq']+ j['traits_implemented']['PartialOrd']+ j['traits_implemented']['PartialEq']\n",
    "    custom_datatypes_in_args += len(j['custom_arg_types'])\n",
    "    custom_return_types += len(j['custom_return_types'])\n",
    "    percentage_functions_with_borrowed_args += j['percentage_functions_with_borrowed_args']\n",
    "    percentage_functions_with_custom_types += j['percentage_functions_custom_type']\n",
    "    percentage_functions_with_custom_return_type += j['percentage_functions_with_custom_return_type']\n",
    "    percentage_functions_with_mutable += j['percentage_functions_with_mut']\n",
    "    percentage_functions_with_lifetime += j['percentage_functions_with_lifetime']\n",
    "    percentage_functions_with_pointer += j['percentage_functions_with_pointer_like_types']\n",
    "    \n",
    "    "
   ]
  },
  {
   "cell_type": "code",
   "execution_count": null,
   "metadata": {},
   "outputs": [],
   "source": [
    "len(data['project_stats'])"
   ]
  },
  {
   "cell_type": "code",
   "execution_count": null,
   "metadata": {},
   "outputs": [],
   "source": [
    "print("
   ]
  },
  {
   "cell_type": "code",
   "execution_count": null,
   "metadata": {},
   "outputs": [],
   "source": [
    "# compute the average\n",
    "avg_files = total_files / len(data['project_stats'])\n",
    "max_args = max(avg_args)\n",
    "avg_args = sum(avg_args) / len(data['project_stats'])\n",
    "\n",
    "avg_functions = total_functions / len(data['project_stats'])\n",
    "avg_borrowed_args = borrowed_args / (len(data['project_stats'])*avg_functions)\n",
    "avg_custom_datatypes = custom_datatypes / len(data['project_stats'])\n",
    "avg_traits_count = traits_count / len(data['project_stats'])\n",
    "avg_custom_datatypes_in_args = custom_datatypes_in_args / (len(data['project_stats']) * avg_functions)\n",
    "avg_custom_return_types = custom_return_types / (len(data['project_stats']) * avg_functions)\n",
    "avg_percentage_functions_with_borrowed_args = percentage_functions_with_borrowed_args / len(data['project_stats'])\n",
    "avg_percentage_functions_with_custom_types = percentage_functions_with_custom_types / len(data['project_stats'])\n",
    "avg_percentage_functions_with_custom_return_type = percentage_functions_with_custom_return_type / len(data['project_stats'])\n",
    "avg_percentage_functions_with_mutable = percentage_functions_with_mutable / len(data['project_stats'])\n",
    "avg_percentage_functions_with_lifetime = percentage_functions_with_lifetime / len(data['project_stats'])\n",
    "avg_percentage_functions_with_pointer = percentage_functions_with_pointer / len(data['project_stats'])"
   ]
  },
  {
   "cell_type": "code",
   "execution_count": null,
   "metadata": {},
   "outputs": [],
   "source": [
    "print(f'Average number of files: {avg_files}')\n",
    "print(f'Minimum number of files: {min_files}')\n",
    "print(f'Total Files:', total_files)\n",
    "print(f'total_args:', total_args)\n",
    "print(f'Maximum number of args:', max_args)\n",
    "print(f'Average number of args:', avg_args)\n",
    "print(f'Maximum number of files: {max_files}')\n",
    "print(f'Average number of functions: {avg_functions}')\n",
    "print('Total number of functions:', total_functions)\n",
    "print(f'Minimum number of functions: {min_func}')\n",
    "print(f'Maximum number of functions: {max_func}')\n",
    "print(f'Average number of borrowed arguments: {avg_borrowed_args}')\n",
    "print(f'Average number of custom datatypes: {avg_custom_datatypes}')\n",
    "print(f'Average number of traits implemented: {avg_traits_count}')\n",
    "print(f'Average number of custom datatypes in arguments: {avg_custom_datatypes_in_args}')\n",
    "print(f'Average number of custom return types: {avg_custom_return_types}')\n",
    "print(f'Average percentage of functions with borrowed arguments: {avg_percentage_functions_with_borrowed_args}')\n",
    "print(f'Average percentage of functions with custom types: {avg_percentage_functions_with_custom_types}')\n",
    "print(f'Average percentage of functions with custom return type: {avg_percentage_functions_with_custom_return_type}')\n",
    "print(f'Average percentage of functions with mutable: {avg_percentage_functions_with_mutable}')\n",
    "print(f'Average percentage of functions with lifetime: {avg_percentage_functions_with_lifetime}')\n",
    "print(f'Average percentage of functions with pointer: {avg_percentage_functions_with_pointer}')"
   ]
  },
  {
   "cell_type": "code",
   "execution_count": null,
   "metadata": {},
   "outputs": [],
   "source": [
    "print(f\" Total number of files: {total_files}\")\n",
    "print(f\" Total number of functions: {total_functions}\")\n",
    "print(f\" Total number of borrowed arguments: {borrowed_args}\")\n",
    "print(f\" Total number of custom datatypes: {custom_datatypes}\")\n",
    "print(f\" Total number of traits implemented: {traits_count}\")\n",
    "print(f\" Total number of custom datatypes in arguments: {custom_datatypes_in_args}\")\n",
    "print(f\" Total number of custom return types: {custom_return_types}\")\n"
   ]
  },
  {
   "cell_type": "code",
   "execution_count": null,
   "metadata": {},
   "outputs": [],
   "source": [
    "# read the tsv file\n",
    "from pathlib import Path\n",
    "\n",
    "input_file = Path('./c_repo_stats.txt')\n",
    "with open(input_file, 'r', encoding = 'utf-8') as input:\n",
    "    data = input.readlines()\n",
    "\n",
    "# extract the data\n",
    "data = [line.strip().split('\\t') for line in data[1:]]\n",
    "\n",
    "# I have the file structed as follows:\n",
    "# proj_name, type\n",
    "# cluster by type\n",
    "clusters = {}\n",
    "for line in data:\n",
    "    print(line)\n",
    "    proj_name, des, type = line\n",
    "    if type not in clusters:\n",
    "        clusters[type] = []\n",
    "    clusters[type].append(proj_name)"
   ]
  },
  {
   "cell_type": "code",
   "execution_count": null,
   "metadata": {},
   "outputs": [],
   "source": [
    "# print the clusters with count\n",
    "for type, projects in clusters.items():\n",
    "    print(f'{type}: {len(projects)} projects')\n",
    "    print(projects)\n",
    "    print()"
   ]
  }
 ],
 "metadata": {
  "kernelspec": {
   "display_name": "c2rust",
   "language": "python",
   "name": "python3"
  },
  "language_info": {
   "codemirror_mode": {
    "name": "ipython",
    "version": 3
   },
   "file_extension": ".py",
   "mimetype": "text/x-python",
   "name": "python",
   "nbconvert_exporter": "python",
   "pygments_lexer": "ipython3",
   "version": "3.12.2"
  }
 },
 "nbformat": 4,
 "nbformat_minor": 2
}
